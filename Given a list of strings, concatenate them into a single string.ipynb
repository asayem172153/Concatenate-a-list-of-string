{
  "nbformat": 4,
  "nbformat_minor": 0,
  "metadata": {
    "colab": {
      "provenance": []
    },
    "kernelspec": {
      "name": "python3",
      "display_name": "Python 3"
    },
    "language_info": {
      "name": "python"
    }
  },
  "cells": [
    {
      "cell_type": "code",
      "execution_count": 3,
      "metadata": {
        "colab": {
          "base_uri": "https://localhost:8080/"
        },
        "id": "qXy4nI6Oik67",
        "outputId": "2240dbdd-4a20-41af-ca57-357a8b2a0a75"
      },
      "outputs": [
        {
          "output_type": "stream",
          "name": "stdout",
          "text": [
            "IamlearningPython\n"
          ]
        }
      ],
      "source": [
        "string_list = [\"I\", \"am\", \"learning\", \"Python\"]\n",
        "string = ''\n",
        "\n",
        "for i in string_list:\n",
        "  string += i\n",
        "\n",
        "print(string)"
      ]
    },
    {
      "cell_type": "markdown",
      "source": [
        "**Using join()**"
      ],
      "metadata": {
        "id": "yN1maf3Lknvm"
      }
    },
    {
      "cell_type": "code",
      "source": [
        "string_list = [\"I\", \"am\", \"learning\", \"Python\"]\n",
        "\n",
        "string = ' '.join(string_list)\n",
        "\n",
        "string"
      ],
      "metadata": {
        "colab": {
          "base_uri": "https://localhost:8080/",
          "height": 35
        },
        "id": "NQyoBiC6kruu",
        "outputId": "2fe84623-d1d9-4bc5-e4b2-aa7b8e48eb8f"
      },
      "execution_count": 4,
      "outputs": [
        {
          "output_type": "execute_result",
          "data": {
            "text/plain": [
              "'I am learning Python'"
            ],
            "application/vnd.google.colaboratory.intrinsic+json": {
              "type": "string"
            }
          },
          "metadata": {},
          "execution_count": 4
        }
      ]
    }
  ]
}